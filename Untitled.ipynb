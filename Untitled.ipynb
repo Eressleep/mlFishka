{
 "cells": [
  {
   "cell_type": "code",
   "execution_count": 17,
   "metadata": {},
   "outputs": [],
   "source": [
    "import pandas \n",
    "import math\n",
    "from sklearn.ensemble import GradientBoostingClassifier\n",
    "from sklearn.metrics import log_loss\n",
    "from sklearn.model_selection import train_test_split\n"
   ]
  },
  {
   "cell_type": "code",
   "execution_count": 19,
   "metadata": {},
   "outputs": [],
   "source": [
    "data = pd.read_csv('gbm-data.csv')\n",
    "\n",
    "data_values = data.values\n",
    "X = data_values[:, 1:]\n",
    "y = data_values[:, 0]\n",
    "\n",
    "\n",
    "X_train, X_test, y_train, y_test = train_test_split(X, y, test_size=0.8, random_state=241)"
   ]
  },
  {
   "cell_type": "code",
   "execution_count": 20,
   "metadata": {},
   "outputs": [
    {
     "name": "stdout",
     "output_type": "stream",
     "text": [
      "      Iter       Train Loss   Remaining Time \n",
      "         1           1.2613           15.43s\n",
      "         2           1.1715           14.25s\n",
      "         3           1.1009           13.91s\n",
      "         4           1.0529           14.14s\n",
      "         5           1.0130           13.81s\n",
      "         6           0.9740           13.54s\n",
      "         7           0.9475           13.59s\n",
      "         8           0.9197           13.41s\n",
      "         9           0.8979           13.58s\n",
      "        10           0.8730           13.45s\n",
      "        20           0.7207           13.41s\n",
      "        30           0.6055           13.02s\n",
      "        40           0.5244           12.54s\n",
      "        50           0.4501           12.26s\n",
      "        60           0.3908           11.68s\n",
      "        70           0.3372           11.28s\n",
      "        80           0.3009           10.65s\n",
      "        90           0.2603           10.03s\n",
      "       100           0.2327            9.42s\n",
      "       200           0.0835            3.10s\n"
     ]
    },
    {
     "ename": "TypeError",
     "evalue": "bad operand type for unary -: 'generator'",
     "output_type": "error",
     "traceback": [
      "\u001b[1;31m---------------------------------------------------------------------------\u001b[0m",
      "\u001b[1;31mTypeError\u001b[0m                                 Traceback (most recent call last)",
      "\u001b[1;32m<ipython-input-20-eaba3fc1f5c4>\u001b[0m in \u001b[0;36m<module>\u001b[1;34m\u001b[0m\n\u001b[0;32m      6\u001b[0m     \u001b[0mscore_prediction_test\u001b[0m \u001b[1;33m=\u001b[0m \u001b[0mclf\u001b[0m\u001b[1;33m.\u001b[0m\u001b[0mstaged_decision_function\u001b[0m\u001b[1;33m(\u001b[0m\u001b[0mX_test\u001b[0m\u001b[1;33m)\u001b[0m\u001b[1;33m\u001b[0m\u001b[1;33m\u001b[0m\u001b[0m\n\u001b[0;32m      7\u001b[0m \u001b[1;33m\u001b[0m\u001b[0m\n\u001b[1;32m----> 8\u001b[1;33m     \u001b[0mscore_prediction_train_mod\u001b[0m \u001b[1;33m=\u001b[0m \u001b[1;33m(\u001b[0m\u001b[1;36m1\u001b[0m \u001b[1;33m/\u001b[0m \u001b[1;33m(\u001b[0m\u001b[1;36m1\u001b[0m \u001b[1;33m+\u001b[0m \u001b[0mmath\u001b[0m\u001b[1;33m.\u001b[0m\u001b[0mexp\u001b[0m\u001b[1;33m(\u001b[0m\u001b[1;33m-\u001b[0m\u001b[0mscore_prediction_train\u001b[0m\u001b[1;33m)\u001b[0m\u001b[1;33m)\u001b[0m\u001b[1;33m)\u001b[0m\u001b[1;33m\u001b[0m\u001b[1;33m\u001b[0m\u001b[0m\n\u001b[0m\u001b[0;32m      9\u001b[0m     \u001b[0mscore_prediction_test_mod\u001b[0m \u001b[1;33m=\u001b[0m \u001b[1;33m(\u001b[0m\u001b[1;36m1\u001b[0m \u001b[1;33m/\u001b[0m \u001b[1;33m(\u001b[0m\u001b[1;36m1\u001b[0m \u001b[1;33m+\u001b[0m \u001b[0mmath\u001b[0m\u001b[1;33m.\u001b[0m\u001b[0mexp\u001b[0m\u001b[1;33m(\u001b[0m\u001b[1;33m-\u001b[0m\u001b[0mscore_prediction_test\u001b[0m\u001b[1;33m)\u001b[0m\u001b[1;33m)\u001b[0m\u001b[1;33m)\u001b[0m\u001b[1;33m\u001b[0m\u001b[1;33m\u001b[0m\u001b[0m\n\u001b[0;32m     10\u001b[0m \u001b[1;33m\u001b[0m\u001b[0m\n",
      "\u001b[1;31mTypeError\u001b[0m: bad operand type for unary -: 'generator'"
     ]
    }
   ],
   "source": [
    "for lr in [0.2]:\n",
    "    clf = GradientBoostingClassifier(n_estimators=250, verbose=True, random_state=241, learning_rate=lr)\n",
    "    clf.fit(X_train, y_train)\n",
    "\n",
    "    score_prediction_train = clf.staged_decision_function(X_train)\n",
    "    score_prediction_test = clf.staged_decision_function(X_test)\n",
    "\n",
    "    score_prediction_train_mod = (1 / (1 + math.exp(-score_prediction_train)))\n",
    "    score_prediction_test_mod = (1 / (1 + math.exp(-score_prediction_test)))\n",
    "\n",
    "    log_loss_graph_train = log_loss(y_train, clf.predict_proba(X_train)[:, 1])\n",
    "    log_loss_graph_test = log_loss(y_test, clf.predict_proba(X_test)[:, 1])\n",
    "    \n",
    "    print((lr, log_loss_graph_train, log_loss_graph_test))"
   ]
  }
 ],
 "metadata": {
  "kernelspec": {
   "display_name": "Python 3",
   "language": "python",
   "name": "python3"
  },
  "language_info": {
   "codemirror_mode": {
    "name": "ipython",
    "version": 3
   },
   "file_extension": ".py",
   "mimetype": "text/x-python",
   "name": "python",
   "nbconvert_exporter": "python",
   "pygments_lexer": "ipython3",
   "version": "3.8.0"
  }
 },
 "nbformat": 4,
 "nbformat_minor": 4
}
